{
  "nbformat": 4,
  "nbformat_minor": 0,
  "metadata": {
    "colab": {
      "name": "pandas dataframe 22-04-21.ipynb",
      "provenance": [],
      "collapsed_sections": []
    },
    "kernelspec": {
      "name": "python3",
      "display_name": "Python 3"
    },
    "language_info": {
      "name": "python"
    }
  },
  "cells": [
    {
      "cell_type": "code",
      "metadata": {
        "id": "WFU_lAscpnIs"
      },
      "source": [
        "import pandas as pd"
      ],
      "execution_count": 8,
      "outputs": []
    },
    {
      "cell_type": "code",
      "metadata": {
        "id": "0kCbH2c4o0kG"
      },
      "source": [
        "#1)create a dataframe\n",
        "\n",
        "df=pd.DataFrame({\"id\":[1,2,3,4,5,6],\"name\":[\"zeeshan\",\"amit\",\"salman\",\n",
        "                    \"ramya\",\"neha\",\"sai\"],\"age\":[22,21,25,20,19,20]})"
      ],
      "execution_count": 9,
      "outputs": []
    },
    {
      "cell_type": "code",
      "metadata": {
        "colab": {
          "base_uri": "https://localhost:8080/",
          "height": 195
        },
        "id": "ocFr_7b2pQvZ",
        "outputId": "371e0484-a5f8-4343-b396-c88e12b40bc7"
      },
      "source": [
        "df.head(5)"
      ],
      "execution_count": 10,
      "outputs": [
        {
          "output_type": "execute_result",
          "data": {
            "text/html": [
              "<div>\n",
              "<style scoped>\n",
              "    .dataframe tbody tr th:only-of-type {\n",
              "        vertical-align: middle;\n",
              "    }\n",
              "\n",
              "    .dataframe tbody tr th {\n",
              "        vertical-align: top;\n",
              "    }\n",
              "\n",
              "    .dataframe thead th {\n",
              "        text-align: right;\n",
              "    }\n",
              "</style>\n",
              "<table border=\"1\" class=\"dataframe\">\n",
              "  <thead>\n",
              "    <tr style=\"text-align: right;\">\n",
              "      <th></th>\n",
              "      <th>id</th>\n",
              "      <th>name</th>\n",
              "      <th>age</th>\n",
              "    </tr>\n",
              "  </thead>\n",
              "  <tbody>\n",
              "    <tr>\n",
              "      <th>0</th>\n",
              "      <td>1</td>\n",
              "      <td>zeeshan</td>\n",
              "      <td>22</td>\n",
              "    </tr>\n",
              "    <tr>\n",
              "      <th>1</th>\n",
              "      <td>2</td>\n",
              "      <td>amit</td>\n",
              "      <td>21</td>\n",
              "    </tr>\n",
              "    <tr>\n",
              "      <th>2</th>\n",
              "      <td>3</td>\n",
              "      <td>salman</td>\n",
              "      <td>25</td>\n",
              "    </tr>\n",
              "    <tr>\n",
              "      <th>3</th>\n",
              "      <td>4</td>\n",
              "      <td>ramya</td>\n",
              "      <td>20</td>\n",
              "    </tr>\n",
              "    <tr>\n",
              "      <th>4</th>\n",
              "      <td>5</td>\n",
              "      <td>neha</td>\n",
              "      <td>19</td>\n",
              "    </tr>\n",
              "  </tbody>\n",
              "</table>\n",
              "</div>"
            ],
            "text/plain": [
              "   id     name  age\n",
              "0   1  zeeshan   22\n",
              "1   2     amit   21\n",
              "2   3   salman   25\n",
              "3   4    ramya   20\n",
              "4   5     neha   19"
            ]
          },
          "metadata": {
            "tags": []
          },
          "execution_count": 10
        }
      ]
    },
    {
      "cell_type": "code",
      "metadata": {
        "colab": {
          "base_uri": "https://localhost:8080/",
          "height": 195
        },
        "id": "-IyPvCdIpUPm",
        "outputId": "7e142370-1aa1-4798-ec62-077194831285"
      },
      "source": [
        "# 2) add a new column to existing dataframe\n",
        "\n",
        "df[\"salary\"]=[12000,21000,15000,14000,25000,24000]\n",
        "df.head()"
      ],
      "execution_count": 11,
      "outputs": [
        {
          "output_type": "execute_result",
          "data": {
            "text/html": [
              "<div>\n",
              "<style scoped>\n",
              "    .dataframe tbody tr th:only-of-type {\n",
              "        vertical-align: middle;\n",
              "    }\n",
              "\n",
              "    .dataframe tbody tr th {\n",
              "        vertical-align: top;\n",
              "    }\n",
              "\n",
              "    .dataframe thead th {\n",
              "        text-align: right;\n",
              "    }\n",
              "</style>\n",
              "<table border=\"1\" class=\"dataframe\">\n",
              "  <thead>\n",
              "    <tr style=\"text-align: right;\">\n",
              "      <th></th>\n",
              "      <th>id</th>\n",
              "      <th>name</th>\n",
              "      <th>age</th>\n",
              "      <th>salary</th>\n",
              "    </tr>\n",
              "  </thead>\n",
              "  <tbody>\n",
              "    <tr>\n",
              "      <th>0</th>\n",
              "      <td>1</td>\n",
              "      <td>zeeshan</td>\n",
              "      <td>22</td>\n",
              "      <td>12000</td>\n",
              "    </tr>\n",
              "    <tr>\n",
              "      <th>1</th>\n",
              "      <td>2</td>\n",
              "      <td>amit</td>\n",
              "      <td>21</td>\n",
              "      <td>21000</td>\n",
              "    </tr>\n",
              "    <tr>\n",
              "      <th>2</th>\n",
              "      <td>3</td>\n",
              "      <td>salman</td>\n",
              "      <td>25</td>\n",
              "      <td>15000</td>\n",
              "    </tr>\n",
              "    <tr>\n",
              "      <th>3</th>\n",
              "      <td>4</td>\n",
              "      <td>ramya</td>\n",
              "      <td>20</td>\n",
              "      <td>14000</td>\n",
              "    </tr>\n",
              "    <tr>\n",
              "      <th>4</th>\n",
              "      <td>5</td>\n",
              "      <td>neha</td>\n",
              "      <td>19</td>\n",
              "      <td>25000</td>\n",
              "    </tr>\n",
              "  </tbody>\n",
              "</table>\n",
              "</div>"
            ],
            "text/plain": [
              "   id     name  age  salary\n",
              "0   1  zeeshan   22   12000\n",
              "1   2     amit   21   21000\n",
              "2   3   salman   25   15000\n",
              "3   4    ramya   20   14000\n",
              "4   5     neha   19   25000"
            ]
          },
          "metadata": {
            "tags": []
          },
          "execution_count": 11
        }
      ]
    },
    {
      "cell_type": "code",
      "metadata": {
        "colab": {
          "base_uri": "https://localhost:8080/",
          "height": 195
        },
        "id": "P27gMu1Np6OC",
        "outputId": "c144dd4b-4a64-40d6-a3d3-2477e8af7768"
      },
      "source": [
        "# 3)convert dictionary into dataframe\n",
        "a={\"id\":[1,2,3,4,5],\"name\":[\"zeeshan\",\"salman\",\"amit\",\"akhil\",\"ramya\"]}\n",
        "df1=pd.DataFrame(a)\n",
        "df1"
      ],
      "execution_count": 12,
      "outputs": [
        {
          "output_type": "execute_result",
          "data": {
            "text/html": [
              "<div>\n",
              "<style scoped>\n",
              "    .dataframe tbody tr th:only-of-type {\n",
              "        vertical-align: middle;\n",
              "    }\n",
              "\n",
              "    .dataframe tbody tr th {\n",
              "        vertical-align: top;\n",
              "    }\n",
              "\n",
              "    .dataframe thead th {\n",
              "        text-align: right;\n",
              "    }\n",
              "</style>\n",
              "<table border=\"1\" class=\"dataframe\">\n",
              "  <thead>\n",
              "    <tr style=\"text-align: right;\">\n",
              "      <th></th>\n",
              "      <th>id</th>\n",
              "      <th>name</th>\n",
              "    </tr>\n",
              "  </thead>\n",
              "  <tbody>\n",
              "    <tr>\n",
              "      <th>0</th>\n",
              "      <td>1</td>\n",
              "      <td>zeeshan</td>\n",
              "    </tr>\n",
              "    <tr>\n",
              "      <th>1</th>\n",
              "      <td>2</td>\n",
              "      <td>salman</td>\n",
              "    </tr>\n",
              "    <tr>\n",
              "      <th>2</th>\n",
              "      <td>3</td>\n",
              "      <td>amit</td>\n",
              "    </tr>\n",
              "    <tr>\n",
              "      <th>3</th>\n",
              "      <td>4</td>\n",
              "      <td>akhil</td>\n",
              "    </tr>\n",
              "    <tr>\n",
              "      <th>4</th>\n",
              "      <td>5</td>\n",
              "      <td>ramya</td>\n",
              "    </tr>\n",
              "  </tbody>\n",
              "</table>\n",
              "</div>"
            ],
            "text/plain": [
              "   id     name\n",
              "0   1  zeeshan\n",
              "1   2   salman\n",
              "2   3     amit\n",
              "3   4    akhil\n",
              "4   5    ramya"
            ]
          },
          "metadata": {
            "tags": []
          },
          "execution_count": 12
        }
      ]
    },
    {
      "cell_type": "code",
      "metadata": {
        "id": "kU8kgwxhrZ2b"
      },
      "source": [
        "# 4)add a new column at specified position\n",
        "df1.insert(1,\"email\",[\"zeeshan@gmail.com\",\"abc@gmail.com\",\"amit@gmail.com\",\"ram@gmail.com\",\"king@gmail.com\"],True)  \n",
        "   # at index position 1 it will add value"
      ],
      "execution_count": 14,
      "outputs": []
    },
    {
      "cell_type": "code",
      "metadata": {
        "colab": {
          "base_uri": "https://localhost:8080/",
          "height": 195
        },
        "id": "FAXkWzxKsPS7",
        "outputId": "3df8c656-13ca-4181-9ff1-29f4c13a1951"
      },
      "source": [
        "df1"
      ],
      "execution_count": 15,
      "outputs": [
        {
          "output_type": "execute_result",
          "data": {
            "text/html": [
              "<div>\n",
              "<style scoped>\n",
              "    .dataframe tbody tr th:only-of-type {\n",
              "        vertical-align: middle;\n",
              "    }\n",
              "\n",
              "    .dataframe tbody tr th {\n",
              "        vertical-align: top;\n",
              "    }\n",
              "\n",
              "    .dataframe thead th {\n",
              "        text-align: right;\n",
              "    }\n",
              "</style>\n",
              "<table border=\"1\" class=\"dataframe\">\n",
              "  <thead>\n",
              "    <tr style=\"text-align: right;\">\n",
              "      <th></th>\n",
              "      <th>id</th>\n",
              "      <th>email</th>\n",
              "      <th>name</th>\n",
              "    </tr>\n",
              "  </thead>\n",
              "  <tbody>\n",
              "    <tr>\n",
              "      <th>0</th>\n",
              "      <td>1</td>\n",
              "      <td>zeeshan@gmail.com</td>\n",
              "      <td>zeeshan</td>\n",
              "    </tr>\n",
              "    <tr>\n",
              "      <th>1</th>\n",
              "      <td>2</td>\n",
              "      <td>abc@gmail.com</td>\n",
              "      <td>salman</td>\n",
              "    </tr>\n",
              "    <tr>\n",
              "      <th>2</th>\n",
              "      <td>3</td>\n",
              "      <td>amit@gmail.com</td>\n",
              "      <td>amit</td>\n",
              "    </tr>\n",
              "    <tr>\n",
              "      <th>3</th>\n",
              "      <td>4</td>\n",
              "      <td>ram@gmail.com</td>\n",
              "      <td>akhil</td>\n",
              "    </tr>\n",
              "    <tr>\n",
              "      <th>4</th>\n",
              "      <td>5</td>\n",
              "      <td>king@gmail.com</td>\n",
              "      <td>ramya</td>\n",
              "    </tr>\n",
              "  </tbody>\n",
              "</table>\n",
              "</div>"
            ],
            "text/plain": [
              "   id              email     name\n",
              "0   1  zeeshan@gmail.com  zeeshan\n",
              "1   2      abc@gmail.com   salman\n",
              "2   3     amit@gmail.com     amit\n",
              "3   4      ram@gmail.com    akhil\n",
              "4   5     king@gmail.com    ramya"
            ]
          },
          "metadata": {
            "tags": []
          },
          "execution_count": 15
        }
      ]
    },
    {
      "cell_type": "code",
      "metadata": {
        "id": "xzmdgX1ysWn8"
      },
      "source": [
        "#\n",
        "# 5) how to assign a new column in dataframe using assign method\n",
        "\n",
        "df2=df1.assign(salary=[12000,15000,16000,19000,20000])"
      ],
      "execution_count": 17,
      "outputs": []
    },
    {
      "cell_type": "code",
      "metadata": {
        "colab": {
          "base_uri": "https://localhost:8080/",
          "height": 195
        },
        "id": "MEH4Fo8htD0c",
        "outputId": "19c4b402-db8e-4746-f25f-60064deacef2"
      },
      "source": [
        "df2"
      ],
      "execution_count": 18,
      "outputs": [
        {
          "output_type": "execute_result",
          "data": {
            "text/html": [
              "<div>\n",
              "<style scoped>\n",
              "    .dataframe tbody tr th:only-of-type {\n",
              "        vertical-align: middle;\n",
              "    }\n",
              "\n",
              "    .dataframe tbody tr th {\n",
              "        vertical-align: top;\n",
              "    }\n",
              "\n",
              "    .dataframe thead th {\n",
              "        text-align: right;\n",
              "    }\n",
              "</style>\n",
              "<table border=\"1\" class=\"dataframe\">\n",
              "  <thead>\n",
              "    <tr style=\"text-align: right;\">\n",
              "      <th></th>\n",
              "      <th>id</th>\n",
              "      <th>email</th>\n",
              "      <th>name</th>\n",
              "      <th>salary</th>\n",
              "    </tr>\n",
              "  </thead>\n",
              "  <tbody>\n",
              "    <tr>\n",
              "      <th>0</th>\n",
              "      <td>1</td>\n",
              "      <td>zeeshan@gmail.com</td>\n",
              "      <td>zeeshan</td>\n",
              "      <td>12000</td>\n",
              "    </tr>\n",
              "    <tr>\n",
              "      <th>1</th>\n",
              "      <td>2</td>\n",
              "      <td>abc@gmail.com</td>\n",
              "      <td>salman</td>\n",
              "      <td>15000</td>\n",
              "    </tr>\n",
              "    <tr>\n",
              "      <th>2</th>\n",
              "      <td>3</td>\n",
              "      <td>amit@gmail.com</td>\n",
              "      <td>amit</td>\n",
              "      <td>16000</td>\n",
              "    </tr>\n",
              "    <tr>\n",
              "      <th>3</th>\n",
              "      <td>4</td>\n",
              "      <td>ram@gmail.com</td>\n",
              "      <td>akhil</td>\n",
              "      <td>19000</td>\n",
              "    </tr>\n",
              "    <tr>\n",
              "      <th>4</th>\n",
              "      <td>5</td>\n",
              "      <td>king@gmail.com</td>\n",
              "      <td>ramya</td>\n",
              "      <td>20000</td>\n",
              "    </tr>\n",
              "  </tbody>\n",
              "</table>\n",
              "</div>"
            ],
            "text/plain": [
              "   id              email     name  salary\n",
              "0   1  zeeshan@gmail.com  zeeshan   12000\n",
              "1   2      abc@gmail.com   salman   15000\n",
              "2   3     amit@gmail.com     amit   16000\n",
              "3   4      ram@gmail.com    akhil   19000\n",
              "4   5     king@gmail.com    ramya   20000"
            ]
          },
          "metadata": {
            "tags": []
          },
          "execution_count": 18
        }
      ]
    },
    {
      "cell_type": "code",
      "metadata": {
        "colab": {
          "base_uri": "https://localhost:8080/",
          "height": 166
        },
        "id": "DHZ6gF6PtIB4",
        "outputId": "c96c149f-6aa0-426f-fbbf-b0c7c797f447"
      },
      "source": [
        " \n",
        "#6) how can we print the data of dataframe using for loop?\n",
        "\n",
        "df3=pd.DataFrame({\"class\":[\"A\",\"B\",\"C\",\"D\"],\"no of students \":[40,34,46,50],\"no of subjects\":[4,5,7,5]})\n",
        "df3\n",
        "\n"
      ],
      "execution_count": 19,
      "outputs": [
        {
          "output_type": "execute_result",
          "data": {
            "text/html": [
              "<div>\n",
              "<style scoped>\n",
              "    .dataframe tbody tr th:only-of-type {\n",
              "        vertical-align: middle;\n",
              "    }\n",
              "\n",
              "    .dataframe tbody tr th {\n",
              "        vertical-align: top;\n",
              "    }\n",
              "\n",
              "    .dataframe thead th {\n",
              "        text-align: right;\n",
              "    }\n",
              "</style>\n",
              "<table border=\"1\" class=\"dataframe\">\n",
              "  <thead>\n",
              "    <tr style=\"text-align: right;\">\n",
              "      <th></th>\n",
              "      <th>class</th>\n",
              "      <th>no of students</th>\n",
              "      <th>no of subjects</th>\n",
              "    </tr>\n",
              "  </thead>\n",
              "  <tbody>\n",
              "    <tr>\n",
              "      <th>0</th>\n",
              "      <td>A</td>\n",
              "      <td>40</td>\n",
              "      <td>4</td>\n",
              "    </tr>\n",
              "    <tr>\n",
              "      <th>1</th>\n",
              "      <td>B</td>\n",
              "      <td>34</td>\n",
              "      <td>5</td>\n",
              "    </tr>\n",
              "    <tr>\n",
              "      <th>2</th>\n",
              "      <td>C</td>\n",
              "      <td>46</td>\n",
              "      <td>7</td>\n",
              "    </tr>\n",
              "    <tr>\n",
              "      <th>3</th>\n",
              "      <td>D</td>\n",
              "      <td>50</td>\n",
              "      <td>5</td>\n",
              "    </tr>\n",
              "  </tbody>\n",
              "</table>\n",
              "</div>"
            ],
            "text/plain": [
              "  class  no of students   no of subjects\n",
              "0     A               40               4\n",
              "1     B               34               5\n",
              "2     C               46               7\n",
              "3     D               50               5"
            ]
          },
          "metadata": {
            "tags": []
          },
          "execution_count": 19
        }
      ]
    },
    {
      "cell_type": "code",
      "metadata": {
        "colab": {
          "base_uri": "https://localhost:8080/"
        },
        "id": "9seJ6wt9uUW6",
        "outputId": "308322af-b30b-4a41-9e92-3d9f656c59a6"
      },
      "source": [
        "for i,j in df3.iterrows():          # result will be in terms of row wise\n",
        "  print(i,j)            # i= rows , j= columns\n",
        "  print()              ## for space "
      ],
      "execution_count": 26,
      "outputs": [
        {
          "output_type": "stream",
          "text": [
            "0 class               A\n",
            "no of students     40\n",
            "no of subjects      4\n",
            "Name: 0, dtype: object\n",
            "\n",
            "1 class               B\n",
            "no of students     34\n",
            "no of subjects      5\n",
            "Name: 1, dtype: object\n",
            "\n",
            "2 class               C\n",
            "no of students     46\n",
            "no of subjects      7\n",
            "Name: 2, dtype: object\n",
            "\n",
            "3 class               D\n",
            "no of students     50\n",
            "no of subjects      5\n",
            "Name: 3, dtype: object\n",
            "\n"
          ],
          "name": "stdout"
        }
      ]
    },
    {
      "cell_type": "code",
      "metadata": {
        "colab": {
          "base_uri": "https://localhost:8080/",
          "height": 166
        },
        "id": "rZ4sj-5uud2o",
        "outputId": "8b17bc28-e5da-435f-faef-260c58638ff9"
      },
      "source": [
        "# 7) how can we retreive the data of a dataframe using iteritems() methods\n",
        "df4=pd.DataFrame({\"section\":[1,2,4,5],\"no of books\":[124,125,241,250],\"year of published\":[1994,2000,2001,2010]})\n",
        "df4.head()"
      ],
      "execution_count": 27,
      "outputs": [
        {
          "output_type": "execute_result",
          "data": {
            "text/html": [
              "<div>\n",
              "<style scoped>\n",
              "    .dataframe tbody tr th:only-of-type {\n",
              "        vertical-align: middle;\n",
              "    }\n",
              "\n",
              "    .dataframe tbody tr th {\n",
              "        vertical-align: top;\n",
              "    }\n",
              "\n",
              "    .dataframe thead th {\n",
              "        text-align: right;\n",
              "    }\n",
              "</style>\n",
              "<table border=\"1\" class=\"dataframe\">\n",
              "  <thead>\n",
              "    <tr style=\"text-align: right;\">\n",
              "      <th></th>\n",
              "      <th>section</th>\n",
              "      <th>no of books</th>\n",
              "      <th>year of published</th>\n",
              "    </tr>\n",
              "  </thead>\n",
              "  <tbody>\n",
              "    <tr>\n",
              "      <th>0</th>\n",
              "      <td>1</td>\n",
              "      <td>124</td>\n",
              "      <td>1994</td>\n",
              "    </tr>\n",
              "    <tr>\n",
              "      <th>1</th>\n",
              "      <td>2</td>\n",
              "      <td>125</td>\n",
              "      <td>2000</td>\n",
              "    </tr>\n",
              "    <tr>\n",
              "      <th>2</th>\n",
              "      <td>4</td>\n",
              "      <td>241</td>\n",
              "      <td>2001</td>\n",
              "    </tr>\n",
              "    <tr>\n",
              "      <th>3</th>\n",
              "      <td>5</td>\n",
              "      <td>250</td>\n",
              "      <td>2010</td>\n",
              "    </tr>\n",
              "  </tbody>\n",
              "</table>\n",
              "</div>"
            ],
            "text/plain": [
              "   section  no of books  year of published\n",
              "0        1          124               1994\n",
              "1        2          125               2000\n",
              "2        4          241               2001\n",
              "3        5          250               2010"
            ]
          },
          "metadata": {
            "tags": []
          },
          "execution_count": 27
        }
      ]
    },
    {
      "cell_type": "code",
      "metadata": {
        "colab": {
          "base_uri": "https://localhost:8080/"
        },
        "id": "56KjpmyzwvVc",
        "outputId": "0c6cb70c-6047-4cf6-d3e9-01f38f7fe23e"
      },
      "source": [
        "for i,j in df4.iteritems():      # result will be in column wise\n",
        "  print(i,j)"
      ],
      "execution_count": 29,
      "outputs": [
        {
          "output_type": "stream",
          "text": [
            "section 0    1\n",
            "1    2\n",
            "2    4\n",
            "3    5\n",
            "Name: section, dtype: int64\n",
            "no of books 0    124\n",
            "1    125\n",
            "2    241\n",
            "3    250\n",
            "Name: no of books, dtype: int64\n",
            "year of published 0    1994\n",
            "1    2000\n",
            "2    2001\n",
            "3    2010\n",
            "Name: year of published, dtype: int64\n"
          ],
          "name": "stdout"
        }
      ]
    },
    {
      "cell_type": "code",
      "metadata": {
        "colab": {
          "base_uri": "https://localhost:8080/"
        },
        "id": "TbWWWHA9xALY",
        "outputId": "32ec2bc0-1824-43d9-b6ad-8b959ad90e03"
      },
      "source": [
        "#8) how can we retreive the data in dataframe in terms of tuples:\n",
        "\n",
        "df5=pd.DataFrame({\"brand\":[\"hp\",\"asus\",\"lenovo\",\"apple\"],\"cost\":[\"30k\",\"45k\",\"40k\",\"55k\"],\"country_of_manufacturer\":[\"germany\",\"china\",\"japan\",\"america\"]})\n",
        "for i in df5.itertuples():\n",
        "  print(i)\n",
        "  print()\n",
        "  "
      ],
      "execution_count": 35,
      "outputs": [
        {
          "output_type": "stream",
          "text": [
            "Pandas(Index=0, brand='hp', cost='30k', country_of_manufacturer='germany')\n",
            "\n",
            "Pandas(Index=1, brand='asus', cost='45k', country_of_manufacturer='china')\n",
            "\n",
            "Pandas(Index=2, brand='lenovo', cost='40k', country_of_manufacturer='japan')\n",
            "\n",
            "Pandas(Index=3, brand='apple', cost='55k', country_of_manufacturer='america')\n",
            "\n"
          ],
          "name": "stdout"
        }
      ]
    },
    {
      "cell_type": "code",
      "metadata": {
        "colab": {
          "base_uri": "https://localhost:8080/",
          "height": 166
        },
        "id": "XQmuOjszyPI4",
        "outputId": "09847aa2-6c21-48a2-a1a5-b6852157d013"
      },
      "source": [
        "# 9) how to sort the dataframe\n",
        "df6=pd.DataFrame({\"id\":[21,22,23,24],\"organisation\":[\"oracle\",\"tcs\",\"ibm\",\" \"],\n",
        "                  \"no_of_employees\":[3000,4000,5000,6000]})\n",
        "df6"
      ],
      "execution_count": 51,
      "outputs": [
        {
          "output_type": "execute_result",
          "data": {
            "text/html": [
              "<div>\n",
              "<style scoped>\n",
              "    .dataframe tbody tr th:only-of-type {\n",
              "        vertical-align: middle;\n",
              "    }\n",
              "\n",
              "    .dataframe tbody tr th {\n",
              "        vertical-align: top;\n",
              "    }\n",
              "\n",
              "    .dataframe thead th {\n",
              "        text-align: right;\n",
              "    }\n",
              "</style>\n",
              "<table border=\"1\" class=\"dataframe\">\n",
              "  <thead>\n",
              "    <tr style=\"text-align: right;\">\n",
              "      <th></th>\n",
              "      <th>id</th>\n",
              "      <th>organisation</th>\n",
              "      <th>no_of_employees</th>\n",
              "    </tr>\n",
              "  </thead>\n",
              "  <tbody>\n",
              "    <tr>\n",
              "      <th>0</th>\n",
              "      <td>21</td>\n",
              "      <td>oracle</td>\n",
              "      <td>3000</td>\n",
              "    </tr>\n",
              "    <tr>\n",
              "      <th>1</th>\n",
              "      <td>22</td>\n",
              "      <td>tcs</td>\n",
              "      <td>4000</td>\n",
              "    </tr>\n",
              "    <tr>\n",
              "      <th>2</th>\n",
              "      <td>23</td>\n",
              "      <td>ibm</td>\n",
              "      <td>5000</td>\n",
              "    </tr>\n",
              "    <tr>\n",
              "      <th>3</th>\n",
              "      <td>24</td>\n",
              "      <td></td>\n",
              "      <td>6000</td>\n",
              "    </tr>\n",
              "  </tbody>\n",
              "</table>\n",
              "</div>"
            ],
            "text/plain": [
              "   id organisation  no_of_employees\n",
              "0  21       oracle             3000\n",
              "1  22          tcs             4000\n",
              "2  23          ibm             5000\n",
              "3  24                          6000"
            ]
          },
          "metadata": {
            "tags": []
          },
          "execution_count": 51
        }
      ]
    },
    {
      "cell_type": "code",
      "metadata": {
        "id": "Y6NoZ-2s0R3I"
      },
      "source": [
        "df6.sort_values(\"no_of_employees\",axis=0,ascending=True,inplace=True,na_position=\"last\")"
      ],
      "execution_count": 81,
      "outputs": []
    },
    {
      "cell_type": "code",
      "metadata": {
        "colab": {
          "base_uri": "https://localhost:8080/",
          "height": 166
        },
        "id": "qvLzkiK90xEi",
        "outputId": "1dd94d5f-5f99-43f2-803d-5436c141e12f"
      },
      "source": [
        "df6"
      ],
      "execution_count": 82,
      "outputs": [
        {
          "output_type": "execute_result",
          "data": {
            "text/html": [
              "<div>\n",
              "<style scoped>\n",
              "    .dataframe tbody tr th:only-of-type {\n",
              "        vertical-align: middle;\n",
              "    }\n",
              "\n",
              "    .dataframe tbody tr th {\n",
              "        vertical-align: top;\n",
              "    }\n",
              "\n",
              "    .dataframe thead th {\n",
              "        text-align: right;\n",
              "    }\n",
              "</style>\n",
              "<table border=\"1\" class=\"dataframe\">\n",
              "  <thead>\n",
              "    <tr style=\"text-align: right;\">\n",
              "      <th></th>\n",
              "      <th>id</th>\n",
              "      <th>organisation</th>\n",
              "      <th>no_of_employees</th>\n",
              "    </tr>\n",
              "  </thead>\n",
              "  <tbody>\n",
              "    <tr>\n",
              "      <th>0</th>\n",
              "      <td>21</td>\n",
              "      <td>oracle</td>\n",
              "      <td>3000</td>\n",
              "    </tr>\n",
              "    <tr>\n",
              "      <th>1</th>\n",
              "      <td>22</td>\n",
              "      <td>tcs</td>\n",
              "      <td>4000</td>\n",
              "    </tr>\n",
              "    <tr>\n",
              "      <th>2</th>\n",
              "      <td>23</td>\n",
              "      <td>ibm</td>\n",
              "      <td>5000</td>\n",
              "    </tr>\n",
              "    <tr>\n",
              "      <th>3</th>\n",
              "      <td>24</td>\n",
              "      <td></td>\n",
              "      <td>6000</td>\n",
              "    </tr>\n",
              "  </tbody>\n",
              "</table>\n",
              "</div>"
            ],
            "text/plain": [
              "   id organisation  no_of_employees\n",
              "0  21       oracle             3000\n",
              "1  22          tcs             4000\n",
              "2  23          ibm             5000\n",
              "3  24                          6000"
            ]
          },
          "metadata": {
            "tags": []
          },
          "execution_count": 82
        }
      ]
    },
    {
      "cell_type": "code",
      "metadata": {
        "id": "es4tSnLf0x5Z"
      },
      "source": [
        "df6.sort_values(\"id\",axis=0,ascending=True,inplace=True,na_position=\"last\")"
      ],
      "execution_count": 75,
      "outputs": []
    },
    {
      "cell_type": "code",
      "metadata": {
        "colab": {
          "base_uri": "https://localhost:8080/",
          "height": 166
        },
        "id": "Vxul7FSK1uWO",
        "outputId": "b93f14e9-45b6-4aec-d31f-619e0363ab6c"
      },
      "source": [
        "df6"
      ],
      "execution_count": 76,
      "outputs": [
        {
          "output_type": "execute_result",
          "data": {
            "text/html": [
              "<div>\n",
              "<style scoped>\n",
              "    .dataframe tbody tr th:only-of-type {\n",
              "        vertical-align: middle;\n",
              "    }\n",
              "\n",
              "    .dataframe tbody tr th {\n",
              "        vertical-align: top;\n",
              "    }\n",
              "\n",
              "    .dataframe thead th {\n",
              "        text-align: right;\n",
              "    }\n",
              "</style>\n",
              "<table border=\"1\" class=\"dataframe\">\n",
              "  <thead>\n",
              "    <tr style=\"text-align: right;\">\n",
              "      <th></th>\n",
              "      <th>id</th>\n",
              "      <th>organisation</th>\n",
              "      <th>no_of_employees</th>\n",
              "    </tr>\n",
              "  </thead>\n",
              "  <tbody>\n",
              "    <tr>\n",
              "      <th>0</th>\n",
              "      <td>21</td>\n",
              "      <td>oracle</td>\n",
              "      <td>3000</td>\n",
              "    </tr>\n",
              "    <tr>\n",
              "      <th>1</th>\n",
              "      <td>22</td>\n",
              "      <td>tcs</td>\n",
              "      <td>4000</td>\n",
              "    </tr>\n",
              "    <tr>\n",
              "      <th>2</th>\n",
              "      <td>23</td>\n",
              "      <td>ibm</td>\n",
              "      <td>5000</td>\n",
              "    </tr>\n",
              "    <tr>\n",
              "      <th>3</th>\n",
              "      <td>24</td>\n",
              "      <td></td>\n",
              "      <td>6000</td>\n",
              "    </tr>\n",
              "  </tbody>\n",
              "</table>\n",
              "</div>"
            ],
            "text/plain": [
              "   id organisation  no_of_employees\n",
              "0  21       oracle             3000\n",
              "1  22          tcs             4000\n",
              "2  23          ibm             5000\n",
              "3  24                          6000"
            ]
          },
          "metadata": {
            "tags": []
          },
          "execution_count": 76
        }
      ]
    },
    {
      "cell_type": "code",
      "metadata": {
        "colab": {
          "base_uri": "https://localhost:8080/",
          "height": 166
        },
        "id": "pgifARnc1vTv",
        "outputId": "429dc05d-623f-422f-8a0b-72c8e956a0a8"
      },
      "source": [
        "# 10) how can we sort more than one columns :\n",
        "df6.sort_values([\"id\",\"no_of_employees\",\"organisation\"],axis=0,ascending=[False,True,False],inplace=True,na_position=\"last\")\n",
        "df6"
      ],
      "execution_count": 85,
      "outputs": [
        {
          "output_type": "execute_result",
          "data": {
            "text/html": [
              "<div>\n",
              "<style scoped>\n",
              "    .dataframe tbody tr th:only-of-type {\n",
              "        vertical-align: middle;\n",
              "    }\n",
              "\n",
              "    .dataframe tbody tr th {\n",
              "        vertical-align: top;\n",
              "    }\n",
              "\n",
              "    .dataframe thead th {\n",
              "        text-align: right;\n",
              "    }\n",
              "</style>\n",
              "<table border=\"1\" class=\"dataframe\">\n",
              "  <thead>\n",
              "    <tr style=\"text-align: right;\">\n",
              "      <th></th>\n",
              "      <th>id</th>\n",
              "      <th>organisation</th>\n",
              "      <th>no_of_employees</th>\n",
              "    </tr>\n",
              "  </thead>\n",
              "  <tbody>\n",
              "    <tr>\n",
              "      <th>3</th>\n",
              "      <td>24</td>\n",
              "      <td></td>\n",
              "      <td>6000</td>\n",
              "    </tr>\n",
              "    <tr>\n",
              "      <th>2</th>\n",
              "      <td>23</td>\n",
              "      <td>ibm</td>\n",
              "      <td>5000</td>\n",
              "    </tr>\n",
              "    <tr>\n",
              "      <th>1</th>\n",
              "      <td>22</td>\n",
              "      <td>tcs</td>\n",
              "      <td>4000</td>\n",
              "    </tr>\n",
              "    <tr>\n",
              "      <th>0</th>\n",
              "      <td>21</td>\n",
              "      <td>oracle</td>\n",
              "      <td>3000</td>\n",
              "    </tr>\n",
              "  </tbody>\n",
              "</table>\n",
              "</div>"
            ],
            "text/plain": [
              "   id organisation  no_of_employees\n",
              "3  24                          6000\n",
              "2  23          ibm             5000\n",
              "1  22          tcs             4000\n",
              "0  21       oracle             3000"
            ]
          },
          "metadata": {
            "tags": []
          },
          "execution_count": 85
        }
      ]
    },
    {
      "cell_type": "code",
      "metadata": {
        "colab": {
          "base_uri": "https://localhost:8080/",
          "height": 343
        },
        "id": "a8gGqW-d48tz",
        "outputId": "ee42d22b-3ac1-4790-a864-fe80c83e51b3"
      },
      "source": [
        "\n",
        "\n",
        "#11) create a dataframe with columns , name , id, salary, dept , \n",
        "  # location . and take duplicates for same dept, salary, location\n",
        "\n",
        "df7=pd.DataFrame({\"id\":[201,202,203,204,205,206,207,208,209,210],\n",
        "                   \"name\":[\"amit\",\"zeeshan\",\"teju\",\"madh\",\"rohit\",\"manoj\",\"salman\",\"vikash\",\"sai\",\"pooja\"],\n",
        "                    \"salary\":[\"20k\",\"25k\",\"30k\",\"22k\",\"20k\",\"25k\",\"30k\",\"40k\",\"21k\",\"20k\"],\n",
        "                   \"dept\":[\"it\",\"r&d\",\"quality\",\"quality\",\"it\",\"r&d\",\"production\",\"testing\",\"testing\",\"quality\"],\n",
        "                   \"location\":[\"pune\",\"hyderabad\",\"hyderabad\",\"bangalore\",\"mysore\",\"chennai\",\"pune\",\"bangalore\",\"odisha\",\"delhi\"]})\n",
        "df7"
      ],
      "execution_count": 90,
      "outputs": [
        {
          "output_type": "execute_result",
          "data": {
            "text/html": [
              "<div>\n",
              "<style scoped>\n",
              "    .dataframe tbody tr th:only-of-type {\n",
              "        vertical-align: middle;\n",
              "    }\n",
              "\n",
              "    .dataframe tbody tr th {\n",
              "        vertical-align: top;\n",
              "    }\n",
              "\n",
              "    .dataframe thead th {\n",
              "        text-align: right;\n",
              "    }\n",
              "</style>\n",
              "<table border=\"1\" class=\"dataframe\">\n",
              "  <thead>\n",
              "    <tr style=\"text-align: right;\">\n",
              "      <th></th>\n",
              "      <th>id</th>\n",
              "      <th>name</th>\n",
              "      <th>salary</th>\n",
              "      <th>dept</th>\n",
              "      <th>location</th>\n",
              "    </tr>\n",
              "  </thead>\n",
              "  <tbody>\n",
              "    <tr>\n",
              "      <th>0</th>\n",
              "      <td>201</td>\n",
              "      <td>amit</td>\n",
              "      <td>20k</td>\n",
              "      <td>it</td>\n",
              "      <td>pune</td>\n",
              "    </tr>\n",
              "    <tr>\n",
              "      <th>1</th>\n",
              "      <td>202</td>\n",
              "      <td>zeeshan</td>\n",
              "      <td>25k</td>\n",
              "      <td>r&amp;d</td>\n",
              "      <td>hyderabad</td>\n",
              "    </tr>\n",
              "    <tr>\n",
              "      <th>2</th>\n",
              "      <td>203</td>\n",
              "      <td>teju</td>\n",
              "      <td>30k</td>\n",
              "      <td>quality</td>\n",
              "      <td>hyderabad</td>\n",
              "    </tr>\n",
              "    <tr>\n",
              "      <th>3</th>\n",
              "      <td>204</td>\n",
              "      <td>madh</td>\n",
              "      <td>22k</td>\n",
              "      <td>quality</td>\n",
              "      <td>bangalore</td>\n",
              "    </tr>\n",
              "    <tr>\n",
              "      <th>4</th>\n",
              "      <td>205</td>\n",
              "      <td>rohit</td>\n",
              "      <td>20k</td>\n",
              "      <td>it</td>\n",
              "      <td>mysore</td>\n",
              "    </tr>\n",
              "    <tr>\n",
              "      <th>5</th>\n",
              "      <td>206</td>\n",
              "      <td>manoj</td>\n",
              "      <td>25k</td>\n",
              "      <td>r&amp;d</td>\n",
              "      <td>chennai</td>\n",
              "    </tr>\n",
              "    <tr>\n",
              "      <th>6</th>\n",
              "      <td>207</td>\n",
              "      <td>salman</td>\n",
              "      <td>30k</td>\n",
              "      <td>production</td>\n",
              "      <td>pune</td>\n",
              "    </tr>\n",
              "    <tr>\n",
              "      <th>7</th>\n",
              "      <td>208</td>\n",
              "      <td>vikash</td>\n",
              "      <td>40k</td>\n",
              "      <td>testing</td>\n",
              "      <td>bangalore</td>\n",
              "    </tr>\n",
              "    <tr>\n",
              "      <th>8</th>\n",
              "      <td>209</td>\n",
              "      <td>sai</td>\n",
              "      <td>21k</td>\n",
              "      <td>testing</td>\n",
              "      <td>odisha</td>\n",
              "    </tr>\n",
              "    <tr>\n",
              "      <th>9</th>\n",
              "      <td>210</td>\n",
              "      <td>pooja</td>\n",
              "      <td>20k</td>\n",
              "      <td>quality</td>\n",
              "      <td>delhi</td>\n",
              "    </tr>\n",
              "  </tbody>\n",
              "</table>\n",
              "</div>"
            ],
            "text/plain": [
              "    id     name salary        dept   location\n",
              "0  201     amit    20k          it       pune\n",
              "1  202  zeeshan    25k         r&d  hyderabad\n",
              "2  203     teju    30k     quality  hyderabad\n",
              "3  204     madh    22k     quality  bangalore\n",
              "4  205    rohit    20k          it     mysore\n",
              "5  206    manoj    25k         r&d    chennai\n",
              "6  207   salman    30k  production       pune\n",
              "7  208   vikash    40k     testing  bangalore\n",
              "8  209      sai    21k     testing     odisha\n",
              "9  210    pooja    20k     quality      delhi"
            ]
          },
          "metadata": {
            "tags": []
          },
          "execution_count": 90
        }
      ]
    },
    {
      "cell_type": "code",
      "metadata": {
        "colab": {
          "base_uri": "https://localhost:8080/"
        },
        "id": "U0G0qAnn81cA",
        "outputId": "3de5fdc6-5afa-41e1-ddf5-3c788b985af1"
      },
      "source": [
        "# a) how to make groups in the dataframe\n",
        "df7.groupby(\"dept\")\n",
        "print(df7.groupby(\"dept\").groups)"
      ],
      "execution_count": 91,
      "outputs": [
        {
          "output_type": "stream",
          "text": [
            "{'it': [0, 4], 'production': [6], 'quality': [2, 3, 9], 'r&d': [1, 5], 'testing': [7, 8]}\n"
          ],
          "name": "stdout"
        }
      ]
    },
    {
      "cell_type": "code",
      "metadata": {
        "colab": {
          "base_uri": "https://localhost:8080/"
        },
        "id": "SW2qakXS923D",
        "outputId": "5671f07c-87e4-4d25-b5b4-9a65525f65db"
      },
      "source": [
        "df7.groupby(\"location\")\n",
        "print(df7.groupby(\"location\").groups)"
      ],
      "execution_count": 92,
      "outputs": [
        {
          "output_type": "stream",
          "text": [
            "{'bangalore': [3, 7], 'chennai': [5], 'delhi': [9], 'hyderabad': [1, 2], 'mysore': [4], 'odisha': [8], 'pune': [0, 6]}\n"
          ],
          "name": "stdout"
        }
      ]
    },
    {
      "cell_type": "code",
      "metadata": {
        "colab": {
          "base_uri": "https://localhost:8080/",
          "height": 343
        },
        "id": "2uoFL25I-C8F",
        "outputId": "95f17f36-7576-4211-973f-4318f4bfe7d8"
      },
      "source": [
        "df7.head(10)"
      ],
      "execution_count": 95,
      "outputs": [
        {
          "output_type": "execute_result",
          "data": {
            "text/html": [
              "<div>\n",
              "<style scoped>\n",
              "    .dataframe tbody tr th:only-of-type {\n",
              "        vertical-align: middle;\n",
              "    }\n",
              "\n",
              "    .dataframe tbody tr th {\n",
              "        vertical-align: top;\n",
              "    }\n",
              "\n",
              "    .dataframe thead th {\n",
              "        text-align: right;\n",
              "    }\n",
              "</style>\n",
              "<table border=\"1\" class=\"dataframe\">\n",
              "  <thead>\n",
              "    <tr style=\"text-align: right;\">\n",
              "      <th></th>\n",
              "      <th>id</th>\n",
              "      <th>name</th>\n",
              "      <th>salary</th>\n",
              "      <th>dept</th>\n",
              "      <th>location</th>\n",
              "    </tr>\n",
              "  </thead>\n",
              "  <tbody>\n",
              "    <tr>\n",
              "      <th>0</th>\n",
              "      <td>201</td>\n",
              "      <td>amit</td>\n",
              "      <td>20k</td>\n",
              "      <td>it</td>\n",
              "      <td>pune</td>\n",
              "    </tr>\n",
              "    <tr>\n",
              "      <th>1</th>\n",
              "      <td>202</td>\n",
              "      <td>zeeshan</td>\n",
              "      <td>25k</td>\n",
              "      <td>r&amp;d</td>\n",
              "      <td>hyderabad</td>\n",
              "    </tr>\n",
              "    <tr>\n",
              "      <th>2</th>\n",
              "      <td>203</td>\n",
              "      <td>teju</td>\n",
              "      <td>30k</td>\n",
              "      <td>quality</td>\n",
              "      <td>hyderabad</td>\n",
              "    </tr>\n",
              "    <tr>\n",
              "      <th>3</th>\n",
              "      <td>204</td>\n",
              "      <td>madh</td>\n",
              "      <td>22k</td>\n",
              "      <td>quality</td>\n",
              "      <td>bangalore</td>\n",
              "    </tr>\n",
              "    <tr>\n",
              "      <th>4</th>\n",
              "      <td>205</td>\n",
              "      <td>rohit</td>\n",
              "      <td>20k</td>\n",
              "      <td>it</td>\n",
              "      <td>mysore</td>\n",
              "    </tr>\n",
              "    <tr>\n",
              "      <th>5</th>\n",
              "      <td>206</td>\n",
              "      <td>manoj</td>\n",
              "      <td>25k</td>\n",
              "      <td>r&amp;d</td>\n",
              "      <td>chennai</td>\n",
              "    </tr>\n",
              "    <tr>\n",
              "      <th>6</th>\n",
              "      <td>207</td>\n",
              "      <td>salman</td>\n",
              "      <td>30k</td>\n",
              "      <td>production</td>\n",
              "      <td>pune</td>\n",
              "    </tr>\n",
              "    <tr>\n",
              "      <th>7</th>\n",
              "      <td>208</td>\n",
              "      <td>vikash</td>\n",
              "      <td>40k</td>\n",
              "      <td>testing</td>\n",
              "      <td>bangalore</td>\n",
              "    </tr>\n",
              "    <tr>\n",
              "      <th>8</th>\n",
              "      <td>209</td>\n",
              "      <td>sai</td>\n",
              "      <td>21k</td>\n",
              "      <td>testing</td>\n",
              "      <td>odisha</td>\n",
              "    </tr>\n",
              "    <tr>\n",
              "      <th>9</th>\n",
              "      <td>210</td>\n",
              "      <td>pooja</td>\n",
              "      <td>20k</td>\n",
              "      <td>quality</td>\n",
              "      <td>delhi</td>\n",
              "    </tr>\n",
              "  </tbody>\n",
              "</table>\n",
              "</div>"
            ],
            "text/plain": [
              "    id     name salary        dept   location\n",
              "0  201     amit    20k          it       pune\n",
              "1  202  zeeshan    25k         r&d  hyderabad\n",
              "2  203     teju    30k     quality  hyderabad\n",
              "3  204     madh    22k     quality  bangalore\n",
              "4  205    rohit    20k          it     mysore\n",
              "5  206    manoj    25k         r&d    chennai\n",
              "6  207   salman    30k  production       pune\n",
              "7  208   vikash    40k     testing  bangalore\n",
              "8  209      sai    21k     testing     odisha\n",
              "9  210    pooja    20k     quality      delhi"
            ]
          },
          "metadata": {
            "tags": []
          },
          "execution_count": 95
        }
      ]
    },
    {
      "cell_type": "code",
      "metadata": {
        "colab": {
          "base_uri": "https://localhost:8080/"
        },
        "id": "LBj2CVJI-FUz",
        "outputId": "d568cc5b-8a2c-49c8-b056-9f2c69e32342"
      },
      "source": [
        "df7.groupby([\"dept\",\"salary\"])\n",
        "print(df7.groupby([\"dept\",\"salary\"]).groups)"
      ],
      "execution_count": 96,
      "outputs": [
        {
          "output_type": "stream",
          "text": [
            "{('it', '20k'): [0, 4], ('production', '30k'): [6], ('quality', '20k'): [9], ('quality', '22k'): [3], ('quality', '30k'): [2], ('r&d', '25k'): [1, 5], ('testing', '21k'): [8], ('testing', '40k'): [7]}\n"
          ],
          "name": "stdout"
        }
      ]
    },
    {
      "cell_type": "code",
      "metadata": {
        "id": "z_2fLkh2-YIf"
      },
      "source": [
        ""
      ],
      "execution_count": null,
      "outputs": []
    }
  ]
}